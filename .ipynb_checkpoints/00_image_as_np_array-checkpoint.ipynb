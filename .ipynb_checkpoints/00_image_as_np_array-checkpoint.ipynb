{
 "cells": [
  {
   "cell_type": "code",
   "execution_count": null,
   "id": "5fffc43f",
   "metadata": {},
   "outputs": [],
   "source": [
    "# load libraries\n",
    "import numpy as np\n",
    "from PIL import Image\n",
    "import matplotlib.image as mpimg\n",
    "from matplotlib.pyplot import imshow\n",
    "import os\n",
    "\n",
    "# import functions\n",
    "from glitch import *"
   ]
  },
  {
   "cell_type": "code",
   "execution_count": null,
   "id": "44903166",
   "metadata": {},
   "outputs": [],
   "source": [
    "os.getcwd()\n",
    "os.path.join('Users', 'stefaniemeliss', 'Dropbox', 'personal', 'picsNvids')"
   ]
  },
  {
   "cell_type": "code",
   "execution_count": null,
   "id": "552bbc5c",
   "metadata": {},
   "outputs": [],
   "source": [
    "# load jpeg\n",
    "im = Image.open('Scan 1.jpg')\n",
    "im"
   ]
  },
  {
   "cell_type": "code",
   "execution_count": null,
   "id": "d32102ca",
   "metadata": {},
   "outputs": [],
   "source": [
    "%matplotlib inline\n",
    "testim = mpimg.imread('Scan 1.jpg')\n",
    "imshow(testim)"
   ]
  },
  {
   "cell_type": "code",
   "execution_count": null,
   "id": "29eccefb",
   "metadata": {},
   "outputs": [],
   "source": [
    "# convert to numpy array\n",
    "im_array = np.array(im)"
   ]
  },
  {
   "cell_type": "markdown",
   "id": "3fad8cfa",
   "metadata": {},
   "source": [
    "To get the shape of the array (i.e., the dimensions of the image), we can use the shape attribute.\n",
    "\n",
    "The first number represents the number of rows, i.e., the height of the image.\n",
    "\n",
    "The second number represents the number of columns, i.e., the width of the image.\n",
    "\n",
    "If the image is a colour image, the third number will be 3 to represent the three image layers:\n",
    "1. R - red\n",
    "2. G - green\n",
    "3. B - Blue\n",
    "\n",
    "If the image is a black & white image, then there will be no third number as the image only has information about the intensity of the grayscale (0 = black; 255 = white)."
   ]
  },
  {
   "cell_type": "code",
   "execution_count": null,
   "id": "7d7b1114",
   "metadata": {},
   "outputs": [],
   "source": [
    "# shape of array\n",
    "im_array.shape"
   ]
  },
  {
   "cell_type": "markdown",
   "id": "3b7caf16",
   "metadata": {},
   "source": [
    "In each layer, the values will range from 0 to 255. This can be checked using the min() and max() methods."
   ]
  },
  {
   "cell_type": "code",
   "execution_count": null,
   "id": "be7ad8bf",
   "metadata": {},
   "outputs": [],
   "source": [
    "im_array.min()"
   ]
  },
  {
   "cell_type": "code",
   "execution_count": null,
   "id": "2d0da420",
   "metadata": {},
   "outputs": [],
   "source": [
    "im_array.max()"
   ]
  },
  {
   "cell_type": "markdown",
   "id": "3aa52264",
   "metadata": {},
   "source": [
    "### Plotting each layer individually"
   ]
  },
  {
   "cell_type": "code",
   "execution_count": null,
   "id": "2e16bee1",
   "metadata": {},
   "outputs": [],
   "source": [
    "red = im_array[:,:,0]\n",
    "imshow(red, cmap=\"Reds\")"
   ]
  },
  {
   "cell_type": "code",
   "execution_count": null,
   "id": "3e9cfde6",
   "metadata": {},
   "outputs": [],
   "source": [
    "blue = im_array[:,:,1]\n",
    "imshow(blue, cmap=\"Blues\")"
   ]
  },
  {
   "cell_type": "code",
   "execution_count": null,
   "id": "b5fb1633",
   "metadata": {},
   "outputs": [],
   "source": [
    "green = im_array[:,:,2]\n",
    "imshow(green, cmap=\"Greens\")"
   ]
  },
  {
   "cell_type": "markdown",
   "id": "873cbab9",
   "metadata": {},
   "source": [
    "### Glitch"
   ]
  },
  {
   "cell_type": "code",
   "execution_count": null,
   "id": "bcd8d6a2",
   "metadata": {},
   "outputs": [],
   "source": [
    "# define sequence to sample from: numbers from 0 to 100 increasing in steps of 10\n",
    "dim = list(range(-100, 101, 10))\n",
    "#dim = list(range(0, 101, 10))\n",
    "\n",
    "# sample two values 600 times and save in an array\n",
    "n_times = 10\n",
    "n_sample = 2\n",
    "shift_array = np.array([np.random.choice(dim, n_sample, replace=False) for i in range(n_times)])"
   ]
  },
  {
   "cell_type": "code",
   "execution_count": null,
   "id": "f45419a6",
   "metadata": {},
   "outputs": [],
   "source": []
  },
  {
   "cell_type": "code",
   "execution_count": null,
   "id": "9b96bb26",
   "metadata": {},
   "outputs": [],
   "source": [
    "# copy image\n",
    "test = np.copy(im_array)\n",
    "\n",
    "for i in range(n_times):\n",
    "  print(i)\n",
    "  print(shift_array[i][0])\n",
    "  print(shift_array[i][1])\n",
    "  \n",
    "  # shift red layer\n",
    "  test[:,:,0] = rollrep(test[:,:,0], shift_horizontal = shift_array[i][0], shift_vertical = shift_array[i][1])\n",
    "  \n",
    "  # shift green layer\n",
    "  test[:,:,1] = rollrep(test[:,:,1], shift_horizontal = shift_array[i][1], shift_vertical = shift_array[i][0])\n",
    "\n",
    "  # define output name\n",
    "  outfile = 'images/tmp'+str(i)+'.jpg'\n",
    "  \n",
    "  # save image\n",
    "  out = Image.fromarray(test)\n",
    "  out.save(outfile)"
   ]
  },
  {
   "cell_type": "code",
   "execution_count": null,
   "id": "b9e793f1",
   "metadata": {},
   "outputs": [],
   "source": [
    "import cv2\n",
    "\n",
    "current_path = os.getcwd()\n",
    "print(current_path)\n",
    "img_dir = \"images\""
   ]
  },
  {
   "cell_type": "code",
   "execution_count": null,
   "id": "33c8c89e",
   "metadata": {},
   "outputs": [],
   "source": [
    "def compute_average_dimensions(folder):\n",
    "    total_width = 0\n",
    "    total_height = 0\n",
    "    img_count = 0\n",
    "\n",
    "    for img_file in os.listdir(folder):\n",
    "        if img_file.endswith((\".jpg\", \".jpeg\", \".png\")):\n",
    "            image = Image.open(os.path.join(folder, img_file))\n",
    "            w, h = image.size\n",
    "            total_width += w\n",
    "            total_height += h\n",
    "            img_count += 1\n",
    "\n",
    "    avg_width = int(total_width / img_count)\n",
    "    avg_height = int(total_height / img_count)\n",
    "    return avg_width, avg_height\n",
    "\n",
    "# Calculate average dimensions of images\n",
    "avg_width, avg_height = compute_average_dimensions(img_dir)"
   ]
  },
  {
   "cell_type": "code",
   "execution_count": null,
   "id": "879a917f",
   "metadata": {},
   "outputs": [],
   "source": [
    "def create_video_from_images(folder):\n",
    "    video_filename = 'created_video.mp4'\n",
    "    valid_images = [i for i in os.listdir(folder) if i.endswith((\".jpg\", \".jpeg\", \".png\"))]\n",
    "\n",
    "    first_image = cv2.imread(os.path.join(folder, valid_images[0]))\n",
    "    h, w, _ = first_image.shape\n",
    "\n",
    "    codec = cv2.VideoWriter_fourcc(*'mp4v')\n",
    "    vid_writer = cv2.VideoWriter(video_filename, codec, 30, (w, h))\n",
    "\n",
    "    for img in valid_images:\n",
    "        loaded_img = cv2.imread(os.path.join(folder, img))\n",
    "        for _ in range(20):\n",
    "            vid_writer.write(loaded_img)\n",
    "\n",
    "    vid_writer.release()\n",
    "\n",
    "# Create video from resized images\n",
    "create_video_from_images(img_dir)"
   ]
  }
 ],
 "metadata": {
  "kernelspec": {
   "display_name": "Python 3 (ipykernel)",
   "language": "python",
   "name": "python3"
  },
  "language_info": {
   "codemirror_mode": {
    "name": "ipython",
    "version": 3
   },
   "file_extension": ".py",
   "mimetype": "text/x-python",
   "name": "python",
   "nbconvert_exporter": "python",
   "pygments_lexer": "ipython3",
   "version": "3.11.5"
  }
 },
 "nbformat": 4,
 "nbformat_minor": 5
}
